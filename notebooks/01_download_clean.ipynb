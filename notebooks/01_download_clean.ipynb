{
 "cells": [
  {
   "cell_type": "markdown",
   "id": "d7f5393b",
   "metadata": {},
   "source": [
    "# 01. Download / Open / Clean\n",
    "\n",
    "Load CMIP6 (pr) and CHIRPS/ERA5 observations, harmonize units/time, and subset to East Africa."
   ]
  },
  {
   "cell_type": "code",
   "execution_count": null,
   "id": "f8581166",
   "metadata": {},
   "outputs": [],
   "source": [
    "\n",
    "import xarray as xr\n",
    "import xarray as xr\n",
    "import numpy as np\n",
    "from pathlib import Path\n",
    "from src.utils import pr_to_mm_per_day, harmonize_time, subset_bbox\n",
    "\n",
    "data_dir = Path(\"data/raw\")\n",
    "cmip_path = next((data_dir / \"cmip6\").glob(\"*.nc\"), None)\n",
    "obs_path = next((data_dir / \"obs\").glob(\"*.nc\"), None)\n",
    "print(\"CMIP6:\", cmip_path)\n",
    "print(\"OBS:\", obs_path)\n"
   ]
  },
  {
   "cell_type": "code",
   "execution_count": null,
   "id": "2f7e80e2",
   "metadata": {},
   "outputs": [],
   "source": [
    "\n",
    "ds_cmip = xr.open_dataset(cmip_path)\n",
    "ds_obs = xr.open_dataset(obs_path)\n",
    "ds_cmip = pr_to_mm_per_day(ds_cmip, var='pr')\n",
    "ds_cmip = harmonize_time(ds_cmip)\n",
    "ds_obs = harmonize_time(ds_obs)\n"
   ]
  },
  {
   "cell_type": "code",
   "execution_count": null,
   "id": "10ca246d",
   "metadata": {},
   "outputs": [],
   "source": [
    "# Subset to East Africa and keep the precipitation variable\n",
    "ds_cmip_ea = subset_bbox(ds_cmip, 28, 52, -12, 18)[['pr']]\n",
    "ds_obs_ea = subset_bbox(ds_obs, 28, 52, -12, 18)\n",
    "\n",
    "Path('data/processed').mkdir(parents=True, exist_ok=True)\n",
    "ds_cmip_ea.to_netcdf('data/processed/cmip6_ea_clean.nc')\n",
    "ds_obs_ea.to_netcdf('data/processed/obs_ea_clean.nc')\n",
    "ds_cmip_ea, ds_obs_ea\n"
   ]
  }
 ],
 "metadata": {
  "language_info": {
   "name": "python"
  }
 },
 "nbformat": 4,
 "nbformat_minor": 5
}

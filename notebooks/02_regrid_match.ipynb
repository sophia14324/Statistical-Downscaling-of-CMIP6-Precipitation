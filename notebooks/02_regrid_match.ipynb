{
 "cells": [
  {
   "cell_type": "markdown",
   "id": "4487f227",
   "metadata": {},
   "source": [
    "# 02. Regrid & Match\n",
    "\n",
    "Regrid CMIP6 to the observation grid (xESMF), crop, and align times."
   ]
  },
  {
   "cell_type": "code",
   "execution_count": null,
   "id": "34ec8f84",
   "metadata": {},
   "outputs": [],
   "source": [
    "\n",
    "import xarray as xr\n",
    "import xesmf as xe\n",
    "from pathlib import Path\n",
    "from src.utils import match_to_reference\n",
    "\n",
    "ds_cmip = xr.open_dataset('data/processed/cmip6_ea_clean.nc')\n",
    "ds_obs = xr.open_dataset('data/processed/obs_ea_clean.nc')\n",
    "print(ds_cmip)\n",
    "print(ds_obs)\n"
   ]
  },
  {
   "cell_type": "code",
   "execution_count": null,
   "id": "541fcadb",
   "metadata": {},
   "outputs": [],
   "source": [
    "\n",
    "# Build regridder (bilinear by default). First call builds weights file.\n",
    "regridder = xe.Regridder(ds_cmip, ds_obs, method='bilinear', reuse_weights=False)\n",
    "pr_rg = regridder(ds_cmip['pr'])\n",
    "pr_rg.name = 'pr'\n",
    "ds_cmip_rg = pr_rg.to_dataset()\n",
    "ds_cmip_rg.to_netcdf('data/processed/cmip6_ea_regridded.nc')\n",
    "ds_cmip_rg\n"
   ]
  },
  {
   "cell_type": "code",
   "execution_count": null,
   "id": "d781bd8c",
   "metadata": {},
   "outputs": [],
   "source": [
    "\n",
    "# Align time to observation timestamps \n",
    "pr_cmip_match = match_to_reference(ds_cmip_rg['pr'], ds_obs['pr'] if 'pr' in ds_obs else list(ds_obs.data_vars.values())[0])\n",
    "obs_match = ds_obs.sel(time=pr_cmip_match.time)\n",
    "pr_cmip_match.to_netcdf('data/processed/cmip6_ea_matched.nc')\n",
    "obs_match.to_netcdf('data/processed/obs_ea_matched.nc')\n",
    "pr_cmip_match, obs_match\n"
   ]
  }
 ],
 "metadata": {
  "language_info": {
   "name": "python"
  }
 },
 "nbformat": 4,
 "nbformat_minor": 5
}

{
 "cells": [
  {
   "cell_type": "markdown",
   "id": "0121a5f3",
   "metadata": {},
   "source": [
    "# 03 — Downscaling & Evaluation\n",
    "\n",
    "Fit EQM on training period, apply to test or target period, evaluate skill, and plot."
   ]
  },
  {
   "cell_type": "code",
   "execution_count": null,
   "id": "f00475fe",
   "metadata": {},
   "outputs": [],
   "source": [
    "\n",
    "import xarray as xr\n",
    "import numpy as np\n",
    "import matplotlib.pyplot as plt\n",
    "from src.downscaling import empirical_quantile_mapping\n",
    "from src.utils import mae, bias, nse, monthly_climatology\n",
    "\n",
    "# Load matched datasets\n",
    "pr_cmip = xr.open_dataarray('data/processed/cmip6_ea_matched.nc')\n",
    "obs = xr.open_dataset('data/processed/obs_ea_matched.nc')\n",
    "obs_pr = obs['pr'] if 'pr' in obs else list(obs.data_vars.values())[0]\n"
   ]
  },
  {
   "cell_type": "code",
   "execution_count": null,
   "id": "0ea4558b",
   "metadata": {},
   "outputs": [],
   "source": [
    "\n",
    "# Choose train/test split\n",
    "train_slice = slice('1981-01-01', '2005-12-31')\n",
    "test_slice  = slice('2006-01-01', '2014-12-31')\n",
    "\n",
    "sim_train = pr_cmip.sel(time=train_slice)\n",
    "obs_train = obs_pr.sel(time=train_slice)\n",
    "sim_test  = pr_cmip.sel(time=test_slice)\n",
    "obs_test  = obs_pr.sel(time=test_slice)\n",
    "sim_train, obs_train, sim_test, obs_test\n"
   ]
  },
  {
   "cell_type": "code",
   "execution_count": null,
   "id": "af605648",
   "metadata": {},
   "outputs": [],
   "source": [
    "\n",
    "# Fit & apply EQM (additive by default; for precipitation you can try kind='MUL')\n",
    "pr_down = empirical_quantile_mapping(sim_train, obs_train, sim_test, kind='MUL', nquantiles=80, group='time.month')\n",
    "pr_down.name = 'pr_downscaled'\n",
    "pr_down.to_netcdf('data/processed/pr_downscaled_test.nc')\n",
    "pr_down\n"
   ]
  },
  {
   "cell_type": "code",
   "execution_count": null,
   "id": "ad30416e",
   "metadata": {},
   "outputs": [],
   "source": [
    "\n",
    "# Evaluate metrics over space/time\n",
    "metrics = {\n",
    "    'MAE': mae(pr_down, obs_test, dim='time').mean(['lat','lon']).item(),\n",
    "    'Bias': bias(pr_down, obs_test, dim='time').mean(['lat','lon']).item(),\n",
    "    'NSE': nse(pr_down, obs_test, dim='time').mean(['lat','lon']).item(),\n",
    "}\n",
    "metrics\n"
   ]
  },
  {
   "cell_type": "code",
   "execution_count": null,
   "id": "c67a28ed",
   "metadata": {},
   "outputs": [],
   "source": [
    "\n",
    "# Timeseries: EA spatial mean\n",
    "ts_obs = obs_test.mean(['lat','lon'])\n",
    "ts_raw = sim_test.mean(['lat','lon'])\n",
    "ts_down = pr_down.mean(['lat','lon'])\n",
    "\n",
    "plt.figure()\n",
    "ts_obs.plot(label='Obs')\n",
    "ts_raw.plot(label='Raw CMIP6')\n",
    "ts_down.plot(label='Downscaled')\n",
    "plt.legend(); plt.title('East Africa mean daily precipitation')\n",
    "plt.savefig('figures/plots/ea_timeseries.png', dpi=150)\n"
   ]
  },
  {
   "cell_type": "code",
   "execution_count": null,
   "id": "a5d27597",
   "metadata": {},
   "outputs": [],
   "source": [
    "\n",
    "# Climatology comparison\n",
    "clim_obs = monthly_climatology(obs_test).mean(['lat','lon'])\n",
    "clim_raw = monthly_climatology(sim_test).mean(['lat','lon'])\n",
    "clim_down = monthly_climatology(pr_down).mean(['lat','lon'])\n",
    "\n",
    "plt.figure()\n",
    "clim_obs.plot(marker='o', label='Obs')\n",
    "clim_raw.plot(marker='o', label='Raw CMIP6')\n",
    "clim_down.plot(marker='o', label='Downscaled')\n",
    "plt.legend(); plt.title('Monthly climatology (EA mean)')\n",
    "plt.savefig('figures/plots/ea_climatology.png', dpi=150)\n"
   ]
  }
 ],
 "metadata": {},
 "nbformat": 4,
 "nbformat_minor": 5
}
